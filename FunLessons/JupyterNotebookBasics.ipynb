{
 "cells": [
  {
   "cell_type": "markdown",
   "metadata": {},
   "source": [
    "## Tables\n",
    "Lets make a short version of our MSRP\n",
    "\n",
    "CarName | ModelYear | MSRP\n",
    "- | - | -\n",
    "ford pinto | 75 | 2769\n",
    "toyota corolla | 75 | 2711\n"
   ]
  },
  {
   "cell_type": "markdown",
   "metadata": {},
   "source": [
    "## Latex (math mode)\n",
    "Inline math mode: $y = mx + b$\n",
    "Block/centered math mode: $$y = mx + b$$\n",
    "\n",
    "Subscript: $x_i$ $x_{i + 1}$\n",
    "Superscript: $x^i$ $x^{i + 1}$"
   ]
  },
  {
   "cell_type": "markdown",
   "metadata": {},
   "source": [
    "$\\mu = \\frac {\\sigma * x}{n}$"
   ]
  },
  {
   "cell_type": "code",
   "execution_count": null,
   "metadata": {},
   "outputs": [],
   "source": []
  }
 ],
 "metadata": {
  "kernelspec": {
   "display_name": "Python 3",
   "language": "python",
   "name": "python3"
  },
  "language_info": {
   "codemirror_mode": {
    "name": "ipython",
    "version": 3
   },
   "file_extension": ".py",
   "mimetype": "text/x-python",
   "name": "python",
   "nbconvert_exporter": "python",
   "pygments_lexer": "ipython3",
   "version": "3.8.5"
  }
 },
 "nbformat": 4,
 "nbformat_minor": 4
}
